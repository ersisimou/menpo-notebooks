{
 "metadata": {
  "name": "",
  "signature": "sha256:59df4b3713207bdb1b507028cf808053cf81b9bb26b11d10d1e95a3792169b53"
 },
 "nbformat": 3,
 "nbformat_minor": 0,
 "worksheets": [
  {
   "cells": [
    {
     "cell_type": "code",
     "collapsed": false,
     "input": [
      "cd"
     ],
     "language": "python",
     "metadata": {},
     "outputs": [
      {
       "output_type": "stream",
       "stream": "stdout",
       "text": [
        "/Users/jab08\n"
       ]
      }
     ],
     "prompt_number": 1
    },
    {
     "cell_type": "code",
     "collapsed": false,
     "input": [
      "cd gits/gosh/perception_study/white/"
     ],
     "language": "python",
     "metadata": {},
     "outputs": [
      {
       "output_type": "stream",
       "stream": "stdout",
       "text": [
        "/Users/jab08/gits/gosh/perception_study/white\n"
       ]
      }
     ],
     "prompt_number": 2
    },
    {
     "cell_type": "code",
     "collapsed": false,
     "input": [
      "pwd"
     ],
     "language": "python",
     "metadata": {},
     "outputs": [
      {
       "metadata": {},
       "output_type": "pyout",
       "prompt_number": 3,
       "text": [
        "u'/Users/jab08/gits/gosh/perception_study/white'"
       ]
      }
     ],
     "prompt_number": 3
    },
    {
     "cell_type": "code",
     "collapsed": false,
     "input": [
      "ls"
     ],
     "language": "python",
     "metadata": {},
     "outputs": [
      {
       "output_type": "stream",
       "stream": "stdout",
       "text": [
        "120113111433.bmp  120202112041.lan  120222153253.obj  120320124250.bmp\r\n",
        "120113111433.lan  120202112041.obj  120303111141.bmp  120320124250.lan\r\n",
        "120113111433.obj  120204153210.bmp  120303111141.lan  120320124250.obj\r\n",
        "120113144424.bmp  120204153210.lan  120303111141.obj  120324141009.bmp\r\n",
        "120113144424.lan  120204153210.obj  120303111243.bmp  120324141009.lan\r\n",
        "120113144424.obj  120222114236.bmp  120303111243.lan  120324141009.obj\r\n",
        "120115125211.bmp  120222114236.lan  120303111243.obj  120324143848.bmp\r\n",
        "120115125211.lan  120222114236.obj  120304141519.bmp  120324143848.lan\r\n",
        "120115125211.obj  120222123244.bmp  120304141519.lan  120324143848.obj\r\n",
        "120118133855.bmp  120222123244.lan  120304141519.obj  120325102211.bmp\r\n",
        "120118133855.lan  120222123244.obj  120309103021.bmp  120325102211.lan\r\n",
        "120118133855.obj  120222153132.bmp  120309103021.lan  120325102211.obj\r\n",
        "120124122619.bmp  120222153132.lan  120309103021.obj  120325105859.bmp\r\n",
        "120124122619.lan  120222153132.obj  120320113629.bmp  120325105859.lan\r\n",
        "120124122619.obj  120222153253.bmp  120320113629.lan  120325105859.obj\r\n",
        "120202112041.bmp  120222153253.lan  120320113629.obj\r\n"
       ]
      }
     ],
     "prompt_number": 4
    },
    {
     "cell_type": "code",
     "collapsed": false,
     "input": [],
     "language": "python",
     "metadata": {},
     "outputs": []
    }
   ],
   "metadata": {}
  }
 ]
}