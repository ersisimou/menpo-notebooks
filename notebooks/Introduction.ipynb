{
 "metadata": {
  "name": "",
  "signature": "sha256:35967982b1e980a0518c3d3f07de2b1577e282dec0d4b117cc318af098561d30"
 },
 "nbformat": 3,
 "nbformat_minor": 0,
 "worksheets": [
  {
   "cells": [
    {
     "cell_type": "markdown",
     "metadata": {},
     "source": [
      "# Introduction To The Menpo Notebooks\n",
      "The Menpo notebooks are designed to be a set of hands-on examples for using the Menpo ecosystem. They are designed to be complementary to the User Guide within the [documentation](http://menpo.readthedocs.org). If you haven't read the User Guide yet, we suggest you do this *before* attempting to run the notebooks.\n",
      "\n",
      "The notebooks give a brief introduction to the major concepts within Menpo. They also provide examples of common patterns that you may wish to accomplish using Menpo. In particular, there are in-depth examples on how to build and fit the deformable model algorithms that we support:\n",
      "\n",
      "  - Active Appearance Models\n",
      "  - Constrained Local Models\n",
      "  - Supervised Descent Method\n",
      "  \n",
      "If there is any area that you feel has been neglected, or are totally unsure about something, please let us know on the [menpo-users](https://groups.google.com/forum/#!forum/menpo-users) mailing list!"
     ]
    }
   ],
   "metadata": {}
  }
 ]
}