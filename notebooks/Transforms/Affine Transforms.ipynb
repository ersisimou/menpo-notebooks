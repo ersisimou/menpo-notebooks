{
 "metadata": {
  "name": "",
  "signature": "sha256:20c6335551b104f4edf64763898bdba574c75a86607896c1768ca6f9343dbdca"
 },
 "nbformat": 3,
 "nbformat_minor": 0,
 "worksheets": [
  {
   "cells": [
    {
     "cell_type": "code",
     "collapsed": false,
     "input": [
      "import numpy as np\n",
      "# set the print opts sensibly to keep things tidy\n",
      "np.set_printoptions(linewidth=500, precision=2)\n",
      "\n",
      "from menpo.transform import Rotation, Scale, Translation"
     ],
     "language": "python",
     "metadata": {},
     "outputs": [],
     "prompt_number": 1
    },
    {
     "cell_type": "code",
     "collapsed": false,
     "input": [
      "rotation_m = np.array([[ 0.36,  0.48, -0.80],\n",
      "                       [-0.80,  0.60,  0.00],\n",
      "                       [ 0.48,  0.64,  0.60]])\n",
      "scale = np.array([7,3, 15])\n",
      "translation = np.array([-1,20])"
     ],
     "language": "python",
     "metadata": {},
     "outputs": [],
     "prompt_number": 2
    },
    {
     "cell_type": "code",
     "collapsed": false,
     "input": [
      "r = Rotation(rotation_m)\n",
      "nus = Scale([7,3, 15])   # NonUniformScale (Affine)\n",
      "us = Scale(2, n_dims=3)  # UniformScale (Similarity)\n",
      "t = Translation([-1,20])"
     ],
     "language": "python",
     "metadata": {},
     "outputs": [],
     "prompt_number": 3
    },
    {
     "cell_type": "markdown",
     "metadata": {},
     "source": [
      "All affine transforms are printable. You will see the usual homogeneous matrix, and an English decription of what the affine transform does"
     ]
    },
    {
     "cell_type": "code",
     "collapsed": false,
     "input": [
      "print(r)"
     ],
     "language": "python",
     "metadata": {},
     "outputs": [
      {
       "output_type": "stream",
       "stream": "stdout",
       "text": [
        "CCW Rotation of -73.7 degrees about [-0.33  0.67  0.67]\n",
        "[[ 0.36  0.48 -0.8   0.  ]\n",
        " [-0.8   0.6   0.    0.  ]\n",
        " [ 0.48  0.64  0.6   0.  ]\n",
        " [ 0.    0.    0.    1.  ]]\n"
       ]
      }
     ],
     "prompt_number": 4
    },
    {
     "cell_type": "code",
     "collapsed": false,
     "input": [
      "print(nus)"
     ],
     "language": "python",
     "metadata": {},
     "outputs": [
      {
       "output_type": "stream",
       "stream": "stdout",
       "text": [
        "NonUniformScale by [  7.   3.  15.]\n",
        "[[  7.   0.   0.   0.]\n",
        " [  0.   3.   0.   0.]\n",
        " [  0.   0.  15.   0.]\n",
        " [  0.   0.   0.   1.]]\n"
       ]
      }
     ],
     "prompt_number": 5
    },
    {
     "cell_type": "code",
     "collapsed": false,
     "input": [
      "print(t)"
     ],
     "language": "python",
     "metadata": {},
     "outputs": [
      {
       "output_type": "stream",
       "stream": "stdout",
       "text": [
        "Translation by [ -1.  20.]\n",
        "[[  1.   0.  -1.]\n",
        " [  0.   1.  20.]\n",
        " [  0.   0.   1.]]\n"
       ]
      }
     ],
     "prompt_number": 6
    },
    {
     "cell_type": "markdown",
     "metadata": {},
     "source": [
      "All these are instances of `DiscreteAffine`. That means we can ask any of these to invert themselves"
     ]
    },
    {
     "cell_type": "code",
     "collapsed": false,
     "input": [
      "print(us)\n",
      "print(us.pseudoinverse)"
     ],
     "language": "python",
     "metadata": {},
     "outputs": [
      {
       "output_type": "stream",
       "stream": "stdout",
       "text": [
        "UniformScale by 2.0\n",
        "[[ 2.  0.  0.  0.]\n",
        " [ 0.  2.  0.  0.]\n",
        " [ 0.  0.  2.  0.]\n",
        " [ 0.  0.  0.  1.]]\n",
        "UniformScale by 0.5\n",
        "[[ 0.5  0.   0.   0. ]\n",
        " [ 0.   0.5  0.   0. ]\n",
        " [ 0.   0.   0.5  0. ]\n",
        " [ 0.   0.   0.   1. ]]\n"
       ]
      }
     ],
     "prompt_number": 7
    },
    {
     "cell_type": "markdown",
     "metadata": {},
     "source": [
      "All affine transforms can be chained together using the `chain(another_affine_transform)` method. This produces a new `Affine`. Note that printing a general affine transform describes an equalivilent set of discrete affine transforms (that is, a sequence of discrete `Rotation`, `Translation` and `Scale` operations) that perform the same transform"
     ]
    },
    {
     "cell_type": "code",
     "collapsed": false,
     "input": [
      "rotation_followed_by_scale = r.compose_before(nus)\n",
      "print(rotation_followed_by_scale)"
     ],
     "language": "python",
     "metadata": {},
     "outputs": [
      {
       "output_type": "stream",
       "stream": "stdout",
       "text": [
        "Affine decomposing into:  \n",
        "  CCW Rotation of 120.0 degrees about [ 0.12 -0.81  0.58]\n",
        "  NonUniformScale by [ 15.   7.   3.]\n",
        "  CCW Rotation of -120.0 degrees about [-0.58 -0.58  0.58]\n",
        "  Translation by [ 0.  0.  0.]\n",
        "[[ 2.52  3.36 -5.6   0.  ]\n",
        " [-2.4   1.8   0.    0.  ]\n",
        " [ 7.2   9.6   9.    0.  ]\n",
        " [ 0.    0.    0.    1.  ]]\n"
       ]
      }
     ],
     "prompt_number": 8
    },
    {
     "cell_type": "markdown",
     "metadata": {},
     "source": [
      "We can request this sequence directly by using the `decompose()` method  \n",
      "*notice how all affine transforms support eqality checking*"
     ]
    },
    {
     "cell_type": "code",
     "collapsed": false,
     "input": [
      "decomposed = rotation_followed_by_scale.decompose() \n",
      "result_of_chain = reduce(lambda x, y: x.compose_before(y), decomposed)\n",
      "print(result_of_chain)\n",
      "print('Does chaining the decomposition do '\n",
      "      'the same as the original? {}'.format(result_of_chain == rotation_followed_by_scale))"
     ],
     "language": "python",
     "metadata": {},
     "outputs": [
      {
       "output_type": "stream",
       "stream": "stdout",
       "text": [
        "Affine decomposing into:  \n",
        "  CCW Rotation of 120.0 degrees about [ 0.12 -0.81  0.58]\n",
        "  NonUniformScale by [ 15.   7.   3.]\n",
        "  CCW Rotation of -120.0 degrees about [-0.58 -0.58  0.58]\n",
        "  Translation by [ 0.  0.  0.]\n",
        "[[  2.52e+00   3.36e+00  -5.60e+00   0.00e+00]\n",
        " [ -2.40e+00   1.80e+00   1.26e-15   0.00e+00]\n",
        " [  7.20e+00   9.60e+00   9.00e+00   0.00e+00]\n",
        " [  0.00e+00   0.00e+00   0.00e+00   1.00e+00]]\n",
        "Does chaining the decomposition do the same as the original? True\n"
       ]
      }
     ],
     "prompt_number": 9
    },
    {
     "cell_type": "markdown",
     "metadata": {},
     "source": [
      "Note that chaining `Similarity` objects together yields a `Similarity` instead."
     ]
    },
    {
     "cell_type": "code",
     "collapsed": false,
     "input": [
      "print(r.compose_before(us))"
     ],
     "language": "python",
     "metadata": {},
     "outputs": [
      {
       "output_type": "stream",
       "stream": "stdout",
       "text": [
        "Similarity decomposing into:  \n",
        "  CCW Rotation of -102.9 degrees about [ 0.43 -0.43  0.8 ]\n",
        "  UniformScale by 2.0\n",
        "  CCW Rotation of 113.5 degrees about [ 0.01 -0.93  0.38]\n",
        "  Translation by [ 0.  0.  0.]\n",
        "[[ 0.72  0.96 -1.6   0.  ]\n",
        " [-1.6   1.2   0.    0.  ]\n",
        " [ 0.96  1.28  1.2   0.  ]\n",
        " [ 0.    0.    0.    1.  ]]\n"
       ]
      }
     ],
     "prompt_number": 10
    },
    {
     "cell_type": "markdown",
     "metadata": {},
     "source": [
      "Finally, note that all instances of `Transform` are guaranteed to have an `.apply()` method. Novel points can be passed in here, which will then be transformed (the result is returned, and the points left as they are). However, objects passed into `apply()` can define a `._transform()` method, signifing that this object knows how to handle it's own transformation. In this case, the trasformation is applied in place. `PointCloud` is one such class that defines this method. "
     ]
    },
    {
     "cell_type": "code",
     "collapsed": false,
     "input": [
      "%matplotlib inline\n",
      "from menpo.shape import PointCloud\n",
      "points = np.array([[0.0, 0.0],\n",
      "                   [1.0, 0.0],\n",
      "                   [1.0, 1.0],\n",
      "                   [0.0, 1.0]])\n",
      "pc = PointCloud(points)\n",
      "print(pc)\n",
      "print(pc.points)\n",
      "pc.view();"
     ],
     "language": "python",
     "metadata": {},
     "outputs": [
      {
       "output_type": "stream",
       "stream": "stdout",
       "text": [
        "PointCloud: n_points: 4, n_dims: 2\n",
        "[[ 0.  0.]\n",
        " [ 1.  0.]\n",
        " [ 1.  1.]\n",
        " [ 0.  1.]]\n"
       ]
      },
      {
       "metadata": {},
       "output_type": "display_data",
       "png": "[encoded data removed]",
       "text": [
        "<matplotlib.figure.Figure at 0x10b523a90>"
       ]
      }
     ],
     "prompt_number": 11
    },
    {
     "cell_type": "markdown",
     "metadata": {},
     "source": [
      "A transform can `.apply()` to some raw points to yield new ones... "
     ]
    },
    {
     "cell_type": "code",
     "collapsed": false,
     "input": [
      "import matplotlib.pyplot as plt\n",
      "new_points = t.apply(points)\n",
      "print(new_points)\n",
      "plt.scatter(new_points[:, 0], new_points[:, 1]);"
     ],
     "language": "python",
     "metadata": {},
     "outputs": [
      {
       "output_type": "stream",
       "stream": "stdout",
       "text": [
        "[[ -1.  20.]\n",
        " [  0.  20.]\n",
        " [  0.  21.]\n",
        " [ -1.  21.]]\n"
       ]
      },
      {
       "metadata": {},
       "output_type": "display_data",
       "png": "[encoded data removed]",
       "text": [
        "<matplotlib.figure.Figure at 0x10a8f3ad0>"
       ]
      }
     ],
     "prompt_number": 12
    },
    {
     "cell_type": "markdown",
     "metadata": {},
     "source": [
      "..or can apply directly to `Transformable` objects."
     ]
    },
    {
     "cell_type": "code",
     "collapsed": false,
     "input": [
      "pc3 = t.apply(pc)\n",
      "print(pc3.points)\n",
      "pc3.view();"
     ],
     "language": "python",
     "metadata": {},
     "outputs": [
      {
       "output_type": "stream",
       "stream": "stdout",
       "text": [
        "[[ -1.  20.]\n",
        " [  0.  20.]\n",
        " [  0.  21.]\n",
        " [ -1.  21.]]\n"
       ]
      },
      {
       "metadata": {},
       "output_type": "display_data",
       "png": "[encoded data removed]",
       "text": [
        "<matplotlib.figure.Figure at 0x10b714650>"
       ]
      }
     ],
     "prompt_number": 13
    }
   ],
   "metadata": {}
  }
 ]
}