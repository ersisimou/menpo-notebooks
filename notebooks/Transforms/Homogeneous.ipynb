{
 "metadata": {
  "name": "",
  "signature": "sha256:8b6eef86823aa7067c8f9a8a71d1f0e04980ae71a601c6685ac488179ffc845c"
 },
 "nbformat": 3,
 "nbformat_minor": 0,
 "worksheets": [
  {
   "cells": [
    {
     "cell_type": "markdown",
     "metadata": {},
     "source": [
      "# Homogeneous Transforms"
     ]
    },
    {
     "cell_type": "code",
     "collapsed": false,
     "input": [
      "import numpy as np\n",
      "\n",
      "from menpo.shape import PointCloud\n",
      "from menpo.transform import Homogeneous"
     ],
     "language": "python",
     "metadata": {},
     "outputs": [],
     "prompt_number": 1
    },
    {
     "cell_type": "markdown",
     "metadata": {},
     "source": [
      "If you know the form of a basic homogeneous transform (like here a mirror along y=x) it's trivial to build a `Homogeneous` to use this operation in Menpo"
     ]
    },
    {
     "cell_type": "code",
     "collapsed": false,
     "input": [
      "# mirror along y=x\n",
      "xy_yx = Homogeneous(np.array([[0, 1, 0], \n",
      "                              [1, 0, 0], \n",
      "                              [0, 0, 1]]))"
     ],
     "language": "python",
     "metadata": {},
     "outputs": [],
     "prompt_number": 2
    },
    {
     "cell_type": "code",
     "collapsed": false,
     "input": [
      "s = np.linspace(0, 1)\n",
      "len(s)\n",
      "p = np.ones([len(s), 2])\n",
      "p[:, 1] = s\n",
      "pc = PointCloud(p)\n",
      "print(pc)"
     ],
     "language": "python",
     "metadata": {},
     "outputs": [
      {
       "output_type": "stream",
       "stream": "stdout",
       "text": [
        "PointCloud: n_points: 50, n_dims: 2\n"
       ]
      }
     ],
     "prompt_number": 3
    },
    {
     "cell_type": "code",
     "collapsed": false,
     "input": [
      "%matplotlib inline\n",
      "pc.view(axes_y_limits=(0.5, 1.5));"
     ],
     "language": "python",
     "metadata": {},
     "outputs": [
      {
       "metadata": {},
       "output_type": "display_data",
       "png": "[encoded data removed]",
       "text": [
        "<matplotlib.figure.Figure at 0x7fd97d480150>"
       ]
      }
     ],
     "prompt_number": 4
    },
    {
     "cell_type": "markdown",
     "metadata": {},
     "source": [
      "Let's take a look at what our homogeneous transform is exactly"
     ]
    },
    {
     "cell_type": "code",
     "collapsed": false,
     "input": [
      "print(xy_yx)"
     ],
     "language": "python",
     "metadata": {},
     "outputs": [
      {
       "output_type": "stream",
       "stream": "stdout",
       "text": [
        "Homogeneous\n",
        "[[0 1 0]\n",
        " [1 0 0]\n",
        " [0 0 1]]\n"
       ]
      }
     ],
     "prompt_number": 5
    },
    {
     "cell_type": "markdown",
     "metadata": {},
     "source": [
      "Applying this Transform to a `PointCloud` has the desired effect"
     ]
    },
    {
     "cell_type": "code",
     "collapsed": false,
     "input": [
      "pc_flipped = xy_yx.apply(pc)"
     ],
     "language": "python",
     "metadata": {},
     "outputs": [],
     "prompt_number": 6
    },
    {
     "cell_type": "code",
     "collapsed": false,
     "input": [
      "pc_flipped.view(axes_x_limits=(0.5, 1.5));"
     ],
     "language": "python",
     "metadata": {},
     "outputs": [
      {
       "metadata": {},
       "output_type": "display_data",
       "png": "[encoded data removed]",
       "text": [
        "<matplotlib.figure.Figure at 0x7fd97b70b9d0>"
       ]
      }
     ],
     "prompt_number": 7
    },
    {
     "cell_type": "markdown",
     "metadata": {},
     "source": [
      "Homogeneous transforms support native composition"
     ]
    },
    {
     "cell_type": "code",
     "collapsed": false,
     "input": [
      "no_op = xy_yx.compose_before(xy_yx)\n",
      "print(no_op)"
     ],
     "language": "python",
     "metadata": {},
     "outputs": [
      {
       "output_type": "stream",
       "stream": "stdout",
       "text": [
        "Homogeneous\n",
        "[[1 0 0]\n",
        " [0 1 0]\n",
        " [0 0 1]]\n"
       ]
      }
     ],
     "prompt_number": 8
    },
    {
     "cell_type": "code",
     "collapsed": false,
     "input": [
      "no_op = xy_yx.compose_after(xy_yx)\n",
      "print(no_op)"
     ],
     "language": "python",
     "metadata": {},
     "outputs": [
      {
       "output_type": "stream",
       "stream": "stdout",
       "text": [
        "Homogeneous\n",
        "[[1 0 0]\n",
        " [0 1 0]\n",
        " [0 0 1]]\n"
       ]
      }
     ],
     "prompt_number": 9
    },
    {
     "cell_type": "code",
     "collapsed": false,
     "input": [
      "xy_yx.compose_before_inplace(xy_yx)\n",
      "print(xy_yx)"
     ],
     "language": "python",
     "metadata": {},
     "outputs": [
      {
       "output_type": "stream",
       "stream": "stdout",
       "text": [
        "Homogeneous\n",
        "[[1 0 0]\n",
        " [0 1 0]\n",
        " [0 0 1]]\n"
       ]
      }
     ],
     "prompt_number": 10
    }
   ],
   "metadata": {}
  }
 ]
}