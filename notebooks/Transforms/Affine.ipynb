{
 "metadata": {
  "name": "",
  "signature": "sha256:fe7bac2b4eb8b53c525e4365f0155c5d5d2b90c0df8e8c41b0e84d6e00d31070"
 },
 "nbformat": 3,
 "nbformat_minor": 0,
 "worksheets": [
  {
   "cells": [
    {
     "cell_type": "markdown",
     "metadata": {},
     "source": [
      "# Affine Transforms\n",
      "Menpo supports the full family of affine 2D and 3D transformations. These operations are simply defined as the operations that preserve straight lines. The affine transformation family is a subclass of the homogenous family that does not allow operations like perspective projection. In this notebook, we will focus on commonly used affine transformations such as translations, scales and rotations.\n",
      "\n",
      "It's important to note that these transformations will work on both ``PointCloud`` and it's subclasses and ``Image``s (through the use of the ``warp_`` methods). To start with, let's make a few objects to play around with."
     ]
    },
    {
     "cell_type": "code",
     "collapsed": false,
     "input": [
      "%matplotlib inline\n",
      "import numpy as np\n",
      "import matplotlib.pyplot as plt\n",
      "from menpo.shape import PointCloud\n",
      "from menpo.image import Image\n",
      "\n",
      "# A unit square centered at (0.5, 0.5)\n",
      "points = np.array([[0, 0], [0, 1], [1, 0], [1, 1]])\n",
      "plt.plot(points[:, 0], points[:, 1], 'bo')\n",
      "\n",
      "# A PointCloud containing a copy of the unit square\n",
      "pcloud = PointCloud(points)\n",
      "pcloud.view_new()\n",
      "\n",
      "# A small black image\n",
      "image = Image.blank([100, 100], fill=1)\n",
      "image.view_new();"
     ],
     "language": "python",
     "metadata": {},
     "outputs": [
      {
       "metadata": {},
       "output_type": "display_data",
       "png": "[encoded data removed]",
       "text": [
        "<matplotlib.figure.Figure at 0x7fb81c2f2b90>"
       ]
      },
      {
       "metadata": {},
       "output_type": "display_data",
       "png": "[encoded data removed]",
       "text": [
        "<matplotlib.figure.Figure at 0x7fb7fcb28850>"
       ]
      },
      {
       "metadata": {},
       "output_type": "display_data",
       "png": "[encoded data removed]",
       "text": [
        "<matplotlib.figure.Figure at 0x7fb7fcabcf50>"
       ]
      }
     ],
     "prompt_number": 1
    },
    {
     "cell_type": "markdown",
     "metadata": {},
     "source": [
      "## Translations\n",
      "The ``Translation`` class is a very simple type of affine transformation that merely translates the given object within its space.\n",
      "\n",
      "#### Applying to ``Shape``s\n",
      "Let's try applying a ``Translation`` to a ``PointCloud``"
     ]
    },
    {
     "cell_type": "code",
     "collapsed": false,
     "input": [
      "%matplotlib inline\n",
      "from menpo.transform import Translation\n",
      "\n",
      "small_2d_translation = Translation([-5, 5])\n",
      "\n",
      "translated_pcloud = small_2d_translation.apply(pcloud)\n",
      "# Notice it is now centered around (-4.5, 5.5)\n",
      "translated_pcloud.view();"
     ],
     "language": "python",
     "metadata": {},
     "outputs": [
      {
       "metadata": {},
       "output_type": "display_data",
       "png": "[encoded data removed]",
       "text": [
        "<matplotlib.figure.Figure at 0x7fb81c2f2b50>"
       ]
      }
     ],
     "prompt_number": 2
    },
    {
     "cell_type": "markdown",
     "metadata": {},
     "source": [
      "#### Applying to ``Image``s\n",
      "Let's try applying a ``Translation`` to an ``Image``."
     ]
    },
    {
     "cell_type": "code",
     "collapsed": false,
     "input": [
      "%matplotlib inline\n",
      "from menpo.image import BooleanImage\n",
      "\n",
      "small_2d_translation = Translation([-50, 50])\n",
      "\n",
      "translated_image = image.warp_to_mask(BooleanImage.blank([100, 100]), small_2d_translation)\n",
      "# Notice it is now centered around (-4.5, 5.5)\n",
      "translated_image.view();"
     ],
     "language": "python",
     "metadata": {},
     "outputs": [
      {
       "metadata": {},
       "output_type": "display_data",
       "png": "[encoded data removed]",
       "text": [
        "<matplotlib.figure.Figure at 0x7fb7fc0c1910>"
       ]
      }
     ],
     "prompt_number": 3
    }
   ],
   "metadata": {}
  }
 ]
}