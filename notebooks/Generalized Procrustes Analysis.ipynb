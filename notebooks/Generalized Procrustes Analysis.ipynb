{
 "metadata": {
  "name": "",
  "signature": "sha256:cbc114d39034faaeb46ef1b83749f94994db8f1268a6cfe601384d1ef0123131"
 },
 "nbformat": 3,
 "nbformat_minor": 0,
 "worksheets": [
  {
   "cells": [
    {
     "cell_type": "code",
     "collapsed": false,
     "input": [
      "import numpy as np\n",
      "from menpo.shape import PointCloud\n",
      "from menpo.transform import GeneralizedProcrustesAnalysis"
     ],
     "language": "python",
     "metadata": {},
     "outputs": [],
     "prompt_number": 1
    },
    {
     "cell_type": "markdown",
     "metadata": {},
     "source": [
      "Generalized Procrustes Analysis is an iterative technique for optimally rigidly aligning a set of shapes. To see how this works, let's make three `PointCloud` instances"
     ]
    },
    {
     "cell_type": "code",
     "collapsed": false,
     "input": [
      "src_1 = PointCloud(np.array([[0.0, 0.0],\n",
      "                             [1.0, 0.0],\n",
      "                             [1.0, 1.0],\n",
      "                             [0.0, 1.0]]))\n",
      "src_2 = PointCloud(np.array([[0.0, 0.0],\n",
      "                             [2.0, 0.1],\n",
      "                             [2.0, 2.0],\n",
      "                             [0.1, 2.0]]))\n",
      "src_3 = PointCloud(np.array([[-1.0, 0.0],\n",
      "                             [0.0, 0.0],\n",
      "                             [0.0, 1.0],\n",
      "                             [-1.0, 1.0]]))"
     ],
     "language": "python",
     "metadata": {},
     "outputs": [],
     "prompt_number": 2
    },
    {
     "cell_type": "markdown",
     "metadata": {},
     "source": [
      "`GeneralizedProcrustesAnalysis` accepts a list of `Shape` instances upon construction. This causes it to run it's iterative alignment process."
     ]
    },
    {
     "cell_type": "code",
     "collapsed": false,
     "input": [
      "gpa = GeneralizedProcrustesAnalysis([src_1, src_2, src_3])"
     ],
     "language": "python",
     "metadata": {},
     "outputs": [],
     "prompt_number": 3
    },
    {
     "cell_type": "markdown",
     "metadata": {},
     "source": [
      "Printing the object gives you a summary of what happened"
     ]
    },
    {
     "cell_type": "code",
     "collapsed": false,
     "input": [
      "print(gpa)"
     ],
     "language": "python",
     "metadata": {},
     "outputs": [
      {
       "output_type": "stream",
       "stream": "stdout",
       "text": [
        "Converged after 2 iterations with av. error 0.030000\n"
       ]
      }
     ],
     "prompt_number": 4
    },
    {
     "cell_type": "markdown",
     "metadata": {},
     "source": [
      "GeneralizedProcrustesAnalysis provides a property called `.transforms`, which gives one transform per source that aligns it to the target frame. The target frame is also accessable at `.target`"
     ]
    },
    {
     "cell_type": "code",
     "collapsed": false,
     "input": [
      "print('There are {} transforms'.format(len(gpa.transforms)))\n",
      "print('Each transform is a {}'.format(type(gpa.transforms[0])))\n",
      "print('The target: {}'.format(gpa.target))"
     ],
     "language": "python",
     "metadata": {},
     "outputs": [
      {
       "output_type": "stream",
       "stream": "stdout",
       "text": [
        "There are 3 transforms\n",
        "Each transform is a <class 'menpo.transform.homogeneous.similarity.AlignmentSimilarity'>\n",
        "The target: PointCloud: n_points: 4, n_dims: 2\n"
       ]
      }
     ],
     "prompt_number": 5
    },
    {
     "cell_type": "markdown",
     "metadata": {},
     "source": [
      "*the optimal transform found to align `src_1` is:* "
     ]
    },
    {
     "cell_type": "code",
     "collapsed": false,
     "input": [
      "src_1_similarity = gpa.transforms[0]\n",
      "print(src_1_similarity)"
     ],
     "language": "python",
     "metadata": {},
     "outputs": [
      {
       "output_type": "stream",
       "stream": "stdout",
       "text": [
        "<menpo.transform.homogeneous.similarity.AlignmentSimilarity object at 0x10a931950>\n",
        "[[  1.31687762e+00   4.38608356e-16  -3.16772143e-01]\n",
        " [ -4.38608356e-16   1.31687762e+00   1.65611899e-02]\n",
        " [  0.00000000e+00   0.00000000e+00   1.00000000e+00]]\n",
        "CCW Rotation of 180 degrees about [0 0 1]\n",
        "UniformScale by 1.316878 \n",
        "CCW Rotation of 180 degrees about [0 0 1]\n",
        "Translate by [-0.31677214  0.01656119] \n"
       ]
      }
     ],
     "prompt_number": 6
    },
    {
     "cell_type": "markdown",
     "metadata": {},
     "source": [
      "*and for `src_2` we used:*"
     ]
    },
    {
     "cell_type": "code",
     "collapsed": false,
     "input": [
      "src_2_similarity = gpa.transforms[1]\n",
      "print(src_2_similarity)"
     ],
     "language": "python",
     "metadata": {},
     "outputs": [
      {
       "output_type": "stream",
       "stream": "stdout",
       "text": [
        "<menpo.transform.homogeneous.similarity.AlignmentSimilarity object at 0x10a931d10>\n",
        "[[  6.74878295e-01   0.00000000e+00  -3.50083586e-01]\n",
        " [ -7.49265422e-17   6.74878295e-01  -1.67502527e-02]\n",
        " [  0.00000000e+00   0.00000000e+00   1.00000000e+00]]\n",
        "CCW Rotation of 180 degrees about [0 0 1]\n",
        "UniformScale by 0.674878 \n",
        "CCW Rotation of 180 degrees about [0 0 1]\n",
        "Translate by [-0.35008359 -0.01675025] \n"
       ]
      }
     ],
     "prompt_number": 7
    },
    {
     "cell_type": "markdown",
     "metadata": {},
     "source": [
      "*`src_1_similarity` has a `source` which is the same as `src_1`:*"
     ]
    },
    {
     "cell_type": "code",
     "collapsed": false,
     "input": [
      "print(src_1_similarity.source)\n",
      "print(np.all(src_1 == src_1_similarity.source))"
     ],
     "language": "python",
     "metadata": {},
     "outputs": [
      {
       "output_type": "stream",
       "stream": "stdout",
       "text": [
        "PointCloud: n_points: 4, n_dims: 2\n",
        "True\n"
       ]
      }
     ],
     "prompt_number": 8
    },
    {
     "cell_type": "markdown",
     "metadata": {},
     "source": [
      "*the target of this object was set in the first iteration of the algorithm to the mean of all the sources:*"
     ]
    },
    {
     "cell_type": "code",
     "collapsed": false,
     "input": [
      "print(src_1_similarity.target)"
     ],
     "language": "python",
     "metadata": {},
     "outputs": [
      {
       "output_type": "stream",
       "stream": "stdout",
       "text": [
        "PointCloud: n_points: 4, n_dims: 2\n"
       ]
      }
     ],
     "prompt_number": 9
    },
    {
     "cell_type": "markdown",
     "metadata": {},
     "source": [
      "Its simple to check how the alignment did"
     ]
    },
    {
     "cell_type": "code",
     "collapsed": false,
     "input": [
      "%matplotlib inline\n",
      "for t, a_c in zip(gpa.transforms, gpa.sources):\n",
      "    aligned_src = t.apply(a_c)\n",
      "    aligned_src.view()"
     ],
     "language": "python",
     "metadata": {},
     "outputs": [
      {
       "metadata": {},
       "output_type": "display_data",
       "png": "[encoded data removed]",
       "text": [
        "<matplotlib.figure.Figure at 0x10b41ed50>"
       ]
      }
     ],
     "prompt_number": 10
    }
   ],
   "metadata": {}
  }
 ]
}