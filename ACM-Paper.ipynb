{
 "metadata": {
  "name": "",
  "signature": "sha256:0c46648ae83d96ebc412c6ac775c61699d20b374654b43d9c7a16110680f6e07"
 },
 "nbformat": 3,
 "nbformat_minor": 0,
 "worksheets": [
  {
   "cells": [
    {
     "cell_type": "code",
     "collapsed": false,
     "input": [
      "import os\n",
      "from menpo.benchmark.predefined import clm_basic_bbox, aam_best_performance_alternating_bbox\n",
      "from menpo.benchmark.predefined import sdm_fastest_bbox\n",
      "from menpo.benchmark.io import import_all_bounding_boxes, import_bounding_boxes\n",
      "import numpy as np\n",
      "import menpo.io as mio\n",
      "from menpo.shape import PointCloud"
     ],
     "language": "python",
     "metadata": {},
     "outputs": []
    },
    {
     "cell_type": "code",
     "collapsed": false,
     "input": [
      "# The following paths must be set for the benchmark to run.\n",
      "testing_set_path = '/vol/atlas/acm/lfpw/testset'\n",
      "testing_set_bounding_box_mat_path = '/vol/atlas/acm/bounding_boxes_lfpw_testset.mat'\n",
      "graph1_training_set_path = '/vol/atlas/acm/graph_1_train'\n",
      "graph2_training_set_path = '/vol/atlas/acm/graph_2_train'"
     ],
     "language": "python",
     "metadata": {},
     "outputs": []
    },
    {
     "cell_type": "code",
     "collapsed": false,
     "input": [
      "# Temp set the smaller datasets just to test\n",
      "testing_set_path = '/Users/jab08/Desktop/lfpw/testset/'\n",
      "testing_set_bounding_box_mat_path = '/Users/jab08/Desktop/bounding_boxes_lfpw_testset.mat'\n",
      "graph1_training_set_path = '/Users/jab08/Desktop/graph_1_train_mini/'\n",
      "graph2_training_set_path = '/Users/jab08/Desktop/graph_2_train_mini/'"
     ],
     "language": "python",
     "metadata": {},
     "outputs": []
    },
    {
     "cell_type": "markdown",
     "metadata": {},
     "source": [
      "# Graph 1:Experiments"
     ]
    },
    {
     "cell_type": "markdown",
     "metadata": {},
     "source": [
      "## HOG AAM"
     ]
    },
    {
     "cell_type": "code",
     "collapsed": false,
     "input": [
      "graph1_hog_aam = aam_best_performance_alternating_bbox(\n",
      "                                graph1_training_set_path,\n",
      "                                testing_set_path,\n",
      "                                testing_set_bounding_box_mat_path,\n",
      "                                feature_type='hog',\n",
      "                                verbose=True)"
     ],
     "language": "python",
     "metadata": {},
     "outputs": []
    },
    {
     "cell_type": "markdown",
     "metadata": {},
     "source": [
      "## HOG CLM"
     ]
    },
    {
     "cell_type": "code",
     "collapsed": false,
     "input": [
      "graph1_hog_clm = clm_basic_bbox(\n",
      "                    graph1_training_set_path,\n",
      "                    testing_set_path,\n",
      "                    testing_set_bounding_box_mat_path,\n",
      "                    verbose=True)"
     ],
     "language": "python",
     "metadata": {},
     "outputs": []
    },
    {
     "cell_type": "markdown",
     "metadata": {},
     "source": [
      "## HOG SDM"
     ]
    },
    {
     "cell_type": "code",
     "collapsed": false,
     "input": [
      "graph1_hog_sdm = sdm_fastest_bbox(graph1_training_set_path,\n",
      "                                testing_set_path,\n",
      "                                testing_set_bounding_box_mat_path,\n",
      "                                verbose=True)"
     ],
     "language": "python",
     "metadata": {},
     "outputs": []
    },
    {
     "cell_type": "markdown",
     "metadata": {},
     "source": [
      "## IGO AAM"
     ]
    },
    {
     "cell_type": "code",
     "collapsed": false,
     "input": [
      "graph1_igo_aam = aam_best_performance_alternating_bbox(\n",
      "                                graph1_training_set_path,\n",
      "                                testing_set_path,\n",
      "                                testing_set_bounding_box_mat_path,\n",
      "                                feature_type='igo',\n",
      "                                verbose=True)"
     ],
     "language": "python",
     "metadata": {},
     "outputs": []
    },
    {
     "cell_type": "markdown",
     "metadata": {},
     "source": [
      "# Graph 2: Compare against state-of-the-art"
     ]
    },
    {
     "cell_type": "markdown",
     "metadata": {},
     "source": [
      "## HOG AAM"
     ]
    },
    {
     "cell_type": "code",
     "collapsed": false,
     "input": [
      "graph2_hog_aam = aam_best_performance_alternating_bbox(\n",
      "                                graph2_training_set_path,\n",
      "                                testing_set_path,\n",
      "                                testing_set_bounding_box_mat_path,\n",
      "                                feature_type='hog',\n",
      "                                verbose=True)"
     ],
     "language": "python",
     "metadata": {},
     "outputs": []
    },
    {
     "cell_type": "markdown",
     "metadata": {},
     "source": [
      "## HOG CLM"
     ]
    },
    {
     "cell_type": "code",
     "collapsed": false,
     "input": [
      "graph2_hog_clm = clm_basic_bbox(\n",
      "                    graph2_training_set_path,\n",
      "                    testing_set_path,\n",
      "                    testing_set_bounding_box_mat_path,\n",
      "                    verbose=True)"
     ],
     "language": "python",
     "metadata": {},
     "outputs": []
    },
    {
     "cell_type": "markdown",
     "metadata": {},
     "source": [
      "## HOG SDM"
     ]
    },
    {
     "cell_type": "code",
     "collapsed": false,
     "input": [
      "graph1_hog_sdm = sdm_fastest_bbox(graph2_training_set_path,\n",
      "                                testing_set_path,\n",
      "                                testing_set_bounding_box_mat_path,\n",
      "                                verbose=True)"
     ],
     "language": "python",
     "metadata": {},
     "outputs": []
    }
   ],
   "metadata": {}
  }
 ]
}